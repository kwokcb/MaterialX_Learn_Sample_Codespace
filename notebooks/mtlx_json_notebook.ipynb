{
 "cells": [
  {
   "cell_type": "markdown",
   "metadata": {},
   "source": [
    "# Sample MaterialX Notebook (JSON test)"
   ]
  },
  {
   "cell_type": "code",
   "execution_count": 1,
   "metadata": {},
   "outputs": [
    {
     "name": "stdout",
     "output_type": "stream",
     "text": [
      "Materialx version:  1.38.8\n",
      "Json version:  2.0.9\n"
     ]
    }
   ],
   "source": [
    "import MaterialX as mx\n",
    "import mtlxutils.mxfile as mxf\n",
    "import json\n",
    "\n",
    "from IPython.display import display_markdown\n",
    "\n",
    "# Print xmltodict version\n",
    "print('Materialx version: ', mx.__version__)\n",
    "print('Json version: ', json.__version__)\n"
   ]
  },
  {
   "cell_type": "code",
   "execution_count": 2,
   "metadata": {},
   "outputs": [],
   "source": [
    "def getShaderNodes(graphElement):\n",
    "    '''\n",
    "    Find all surface shaders in a GraphElement.\n",
    "    '''\n",
    "    shaderNodes = set()\n",
    "    for material in graphElement.getMaterialNodes():\n",
    "        for shader in mx.getShaderNodes(material):\n",
    "            shaderNodes.add(shader.getNamePath())\n",
    "    for shader in graphElement.getNodes():\n",
    "        if shader.getType() == 'surfaceshader':\n",
    "            shaderNodes.add(shader.getNamePath())\n",
    "    return shaderNodes\n",
    "\n",
    "\n",
    "def getRenderableGraphs(graphElement):\n",
    "    '''\n",
    "    Find all renderable graphs in a GraphElement.\n",
    "    '''\n",
    "    ngnamepaths = set()\n",
    "    graphs = []\n",
    "    shaderNodes = getShaderNodes(graphElement)\n",
    "    for shaderPath in shaderNodes:\n",
    "        shader = doc.getDescendant(shaderPath)\n",
    "        for input in shader.getInputs():\n",
    "            ngString = input.getNodeGraphString()\n",
    "            if ngString and ngString not in ngnamepaths:\n",
    "                graphs.append(graphElement.getNodeGraph(ngString))\n",
    "                ngnamepaths.add(ngString)\n",
    "    return graphs"
   ]
  },
  {
   "cell_type": "code",
   "execution_count": 3,
   "metadata": {},
   "outputs": [],
   "source": [
    "def copyGraphInterfaces(dest, ng):\n",
    "    '''\n",
    "    Copy the interface of a nodegraph to a new nodegraph under a specified parent `dest`.\n",
    "    '''\n",
    "    copyMethod = 'add_remove'\n",
    "    ng1 = dest.addNodeGraph(ng.getName())\n",
    "    if copyMethod == 'add_remove':\n",
    "        ng1.copyContentFrom(ng)\n",
    "        for child in ng1.getChildren():\n",
    "            if child.isA(mx.Input) or child.isA(mx.Output):\n",
    "                for attr in ['nodegraph', 'nodename', 'defaultinput']:\n",
    "                    child.removeAttribute(attr)\n",
    "                continue\n",
    "            ng1.removeChild(child.getName())\n",
    "    else:\n",
    "        for attrName in ng.getAttributeNames():\n",
    "            attr = ng.getAttribute(attrName)\n",
    "            newattr = ng1.addAttribute(attr.getName(), attr.getType(), attr.getValue())\n",
    "            newattr.copyContentFrom(attr)\n",
    "        for port in ng.getInputs():\n",
    "            newport = ng1.addInput(port.getName(), port.getType())\n",
    "            newport.copyContentFrom(port)\n",
    "        for port in ng.getOutputs():\n",
    "            newport = ng1.addOutput(port.getName(), port.getType())\n",
    "            newport.copyContentFrom(port)\n",
    "            for attr in ['nodegraph', 'nodename', 'defaultinput']:\n",
    "                newport.removeAttribute(attr)    "
   ]
  },
  {
   "cell_type": "code",
   "execution_count": 4,
   "metadata": {},
   "outputs": [],
   "source": [
    "# We use a colon to separate the category and name of an element in the JSON hierarchy\n",
    "JSON_CATEGORY_NAME_SEPARATOR = ':'\n",
    "# The root of the JSON hierarchy\n",
    "MATERIALX_DOCUMENT_ROOT = 'materialx'\n",
    "\n",
    "# Convert MaterialX element to JSON\n",
    "def elementToJSON(elem, jsonParent):\n",
    "    '''\n",
    "    Convert an MaterialX XML element to JSON.\n",
    "    Will recursively traverse the parent/child Element hierarchy.\n",
    "    '''\n",
    "    if (elem.getSourceUri() != \"\"):\n",
    "        return\n",
    "    \n",
    "    # Create a new JSON element for the MaterialX element\n",
    "    jsonElem = {}\n",
    "\n",
    "    # Add attributes\n",
    "    for attrName in elem.getAttributeNames():\n",
    "        jsonElem[attrName] = elem.getAttribute(attrName)\n",
    "\n",
    "    # Add children\n",
    "    for child in elem.getChildren():\n",
    "        jsonElem = elementToJSON(child, jsonElem)\n",
    "    \n",
    "    # Add element to parent\n",
    "    jsonParent[elem.getCategory() + JSON_CATEGORY_NAME_SEPARATOR + elem.getName()] = jsonElem\n",
    "    return jsonParent\n",
    "\n",
    "# Convert MaterialX document to JSON\n",
    "def documentToJSON(doc):\n",
    "    '''Convert an MaterialX XML document to JSON'''\n",
    "    root = {}\n",
    "    root[\"materialx\"] = {}\n",
    "\n",
    "    for attrName in doc.getAttributeNames():\n",
    "        root[attrName] =  doc.getAttribute(attrName)\n",
    "\n",
    "    for elem in doc.getChildren():\n",
    "        elementToJSON(elem, root[MATERIALX_DOCUMENT_ROOT])\n",
    "\n",
    "    result = json.dumps(root, indent=2)\n",
    "    return result"
   ]
  },
  {
   "cell_type": "code",
   "execution_count": 5,
   "metadata": {},
   "outputs": [
    {
     "ename": "ExceptionFileMissing",
     "evalue": "Failed to open file for reading: ./data/sample_marble.mtlx",
     "output_type": "error",
     "traceback": [
      "\u001b[0;31m---------------------------------------------------------------------------\u001b[0m",
      "\u001b[0;31mExceptionFileMissing\u001b[0m                      Traceback (most recent call last)",
      "\u001b[1;32m/workspaces/MaterialX_Learn_Sample_Codespace/notebooks/mtlx_json_notebook.ipynb Cell 6\u001b[0m line \u001b[0;36m4\n\u001b[1;32m      <a href='vscode-notebook-cell://codespaces%2Blaughing-acorn-rwgvq55ggxfpx5p/workspaces/MaterialX_Learn_Sample_Codespace/notebooks/mtlx_json_notebook.ipynb#W5sdnNjb2RlLXJlbW90ZQ%3D%3D?line=0'>1</a>\u001b[0m \u001b[39m# Load in sample MaterialX file\u001b[39;00m\n\u001b[1;32m      <a href='vscode-notebook-cell://codespaces%2Blaughing-acorn-rwgvq55ggxfpx5p/workspaces/MaterialX_Learn_Sample_Codespace/notebooks/mtlx_json_notebook.ipynb#W5sdnNjb2RlLXJlbW90ZQ%3D%3D?line=1'>2</a>\u001b[0m \u001b[39m#doc = mx.createDocument()\u001b[39;00m\n\u001b[1;32m      <a href='vscode-notebook-cell://codespaces%2Blaughing-acorn-rwgvq55ggxfpx5p/workspaces/MaterialX_Learn_Sample_Codespace/notebooks/mtlx_json_notebook.ipynb#W5sdnNjb2RlLXJlbW90ZQ%3D%3D?line=2'>3</a>\u001b[0m doc, libFiles, status \u001b[39m=\u001b[39m mxf\u001b[39m.\u001b[39mMtlxFile\u001b[39m.\u001b[39mcreateWorkingDocument()\n\u001b[0;32m----> <a href='vscode-notebook-cell://codespaces%2Blaughing-acorn-rwgvq55ggxfpx5p/workspaces/MaterialX_Learn_Sample_Codespace/notebooks/mtlx_json_notebook.ipynb#W5sdnNjb2RlLXJlbW90ZQ%3D%3D?line=3'>4</a>\u001b[0m mx\u001b[39m.\u001b[39;49mreadFromXmlFile(doc, \u001b[39m'\u001b[39;49m\u001b[39m./data/sample_marble.mtlx\u001b[39;49m\u001b[39m'\u001b[39;49m)\n\u001b[1;32m      <a href='vscode-notebook-cell://codespaces%2Blaughing-acorn-rwgvq55ggxfpx5p/workspaces/MaterialX_Learn_Sample_Codespace/notebooks/mtlx_json_notebook.ipynb#W5sdnNjb2RlLXJlbW90ZQ%3D%3D?line=5'>6</a>\u001b[0m \u001b[39m# Create destination document and copy nodegraph interfaces over\u001b[39;00m\n\u001b[1;32m      <a href='vscode-notebook-cell://codespaces%2Blaughing-acorn-rwgvq55ggxfpx5p/workspaces/MaterialX_Learn_Sample_Codespace/notebooks/mtlx_json_notebook.ipynb#W5sdnNjb2RlLXJlbW90ZQ%3D%3D?line=6'>7</a>\u001b[0m xmldoc \u001b[39m=\u001b[39m mx\u001b[39m.\u001b[39mcreateDocument()\n",
      "\u001b[0;31mExceptionFileMissing\u001b[0m: Failed to open file for reading: ./data/sample_marble.mtlx"
     ]
    }
   ],
   "source": [
    "# Load in sample MaterialX file\n",
    "#doc = mx.createDocument()\n",
    "doc, libFiles, status = mxf.MtlxFile.createWorkingDocument()\n",
    "mx.readFromXmlFile(doc, './data/sample_marble.mtlx')\n",
    "\n",
    "# Create destination document and copy nodegraph interfaces over\n",
    "xmldoc = mx.createDocument()\n",
    "graphs = getRenderableGraphs(doc)\n",
    "for ng in graphs:\n",
    "    copyGraphInterfaces(xmldoc, ng)\n",
    "\n",
    "# Get interfaces as an XML string\n",
    "xml_string = mxf.MtlxFile.writeDocumentToString(xmldoc)\n",
    "\n",
    "text = '<details><summary>Extracted MaterialX Nodegraphs in XML</summary>\\n\\n' + '```xml\\n' + xml_string + '\\n```\\n' + '</details>\\n' \n",
    "display_markdown(text, raw=True)\n",
    "\n",
    "filename = './data/sample_marble_graph.mtlx'\n",
    "mx.writeToXmlFile(xmldoc, filename)"
   ]
  },
  {
   "cell_type": "code",
   "execution_count": null,
   "metadata": {},
   "outputs": [],
   "source": [
    "# Convert entire document\n",
    "doc_result = documentToJSON(doc)\n",
    "\n",
    "text = '<details><summary>Entire document to JSON</summary>\\n\\n' + '```json\\n' + doc_result  + '\\n```\\n' + '</details>\\n' \n",
    "display_markdown(text, raw=True)\n",
    "\n",
    "# Convert just the graph\n",
    "graph_result = documentToJSON(xmldoc)\n",
    "\n",
    "text = '<details><summary>Node Graph Interface to JSON</summary>\\n\\n' + '```json\\n' + graph_result  + '\\n```\\n' + '</details>\\n' \n",
    "display_markdown(text, raw=True)"
   ]
  },
  {
   "cell_type": "code",
   "execution_count": null,
   "metadata": {},
   "outputs": [],
   "source": [
    "# Save graph_result to file\n",
    "filename = './data/sample_marble_graph.json'\n",
    "file = open(filename, 'w')\n",
    "file.write(graph_result)\n",
    "file.close()\n",
    "\n",
    "# Save doc_result to file\n",
    "filename = './data/sample_marble.json'\n",
    "file = open(filename, 'w')\n",
    "file.write(doc_result)\n",
    "file.close()\n"
   ]
  },
  {
   "cell_type": "markdown",
   "metadata": {},
   "source": [
    "##### Deserialization from JSON\n",
    "\n",
    "For conversion from JSON we introduce two functions:\n",
    "\n",
    "1. `documentFromJSON()` : Converts a JSON string to a MaterialX document.\n",
    "2. `elementFromJSON()` : Converts a JSON string to a MaterialX element, and continues to recursively convert any children.\n",
    "\n",
    "Note that to perform deserialization we need to split the `category` and `name` out for non-attribute elements."
   ]
  },
  {
   "cell_type": "code",
   "execution_count": null,
   "metadata": {},
   "outputs": [],
   "source": [
    "# Separator between category and name in JSON element\n",
    "JSON_CATEGORY_NAME_SEPARATOR = \":\"\n",
    "\n",
    "# Convert JSON element to MaterialX\n",
    "def elementFromJSON(node, elem):\n",
    "    '''\n",
    "    Convert an JSON element to MaterialX\n",
    "    '''\n",
    "    for key in node:\n",
    "        value = node[key]\n",
    "\n",
    "        # Set attributes            \n",
    "        if isinstance(value, str):\n",
    "            elem.setAttribute(key, str(value))\n",
    "\n",
    "        # Traverse chilren\n",
    "        else:\n",
    "            # Traverse down from root\n",
    "            if key == MATERIALX_DOCUMENT_ROOT:\n",
    "                elementFromJSON(value, elem)\n",
    "                continue\n",
    "\n",
    "            # Split key name by \":\" to get category and name\n",
    "            category, name = key.split(JSON_CATEGORY_NAME_SEPARATOR, 1)\n",
    "            if category and not elem.getChild(name):\n",
    "                child = elem.addChildOfCategory(category, name)\n",
    "                elementFromJSON(value, child)\n",
    "\n",
    "# Convert JSON to MaterialX document\n",
    "def documentFromJSON(jsonDoc, doc):\n",
    "    '''\n",
    "    Convert a JSON document to MaterialX\n",
    "    '''\n",
    "    elementFromJSON(jsonDoc, doc)"
   ]
  },
  {
   "cell_type": "code",
   "execution_count": null,
   "metadata": {},
   "outputs": [],
   "source": [
    "# Convert entire document back from JSON\n",
    "newDoc = mx.createDocument() \n",
    "jsonObject = json.loads(doc_result)\n",
    "documentFromJSON(jsonObject, newDoc)\n",
    "\n",
    "# Validate and upgrade element version\n",
    "valid, errors = newDoc.validate()\n",
    "if not valid:\n",
    "    print('Validation errors:')\n",
    "    for err in errors:\n",
    "        print('  {}'.format(err))\n",
    "newDoc.upgradeVersion()\n",
    "\n",
    "newDocString = mx.writeToXmlString(newDoc)    \n",
    "text = '<details><summary>JSON Deserialization of Document</summary>\\n\\n' + '```xml\\n' + newDocString  + '\\n```\\n' + '</details>\\n' \n",
    "display_markdown(text, raw=True)"
   ]
  }
 ],
 "metadata": {
  "kernelspec": {
   "display_name": "Python 3",
   "language": "python",
   "name": "python3"
  },
  "language_info": {
   "codemirror_mode": {
    "name": "ipython",
    "version": 3
   },
   "file_extension": ".py",
   "mimetype": "text/x-python",
   "name": "python",
   "nbconvert_exporter": "python",
   "pygments_lexer": "ipython3",
   "version": "3.10.8"
  },
  "orig_nbformat": 4
 },
 "nbformat": 4,
 "nbformat_minor": 2
}
